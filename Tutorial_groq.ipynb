{
 "cells": [
  {
   "cell_type": "code",
   "execution_count": 1,
   "id": "6ba767cc-36f7-42a2-8fde-f65f3c02f54d",
   "metadata": {},
   "outputs": [
    {
     "name": "stdout",
     "output_type": "stream",
     "text": [
      "The current President of Sri Lanka is Ranil Wickremesinghe. He was sworn in as the President of Sri Lanka on July 21, 2022, after winning the presidential election held by the Parliament of Sri Lanka. Prior to his presidency, Wickremesinghe served as the Prime Minister of Sri Lanka from 1993 to 1994, 2001 to 2004, 2015 to 2018, and 2018 to 2022, as well as the Leader of the United National Party.\n"
     ]
    }
   ],
   "source": [
    "from langchain_groq import ChatGroq\n",
    "\n",
    "llm = ChatGroq(\n",
    "    model_name=\"llama-3.1-70b-versatile\",\n",
    "    temperature=0,\n",
    "    groq_api_key='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'\n",
    ")\n",
    "response = llm.invoke(\"Who is the president of sri lanka..\")\n",
    "print(response.content)"
   ]
  },
  {
   "cell_type": "code",
   "execution_count": null,
   "id": "12a9ff8f-1673-4d6f-9967-65d6c4924252",
   "metadata": {},
   "outputs": [],
   "source": []
  }
 ],
 "metadata": {
  "kernelspec": {
   "display_name": "Python 3 (ipykernel)",
   "language": "python",
   "name": "python3"
  },
  "language_info": {
   "codemirror_mode": {
    "name": "ipython",
    "version": 3
   },
   "file_extension": ".py",
   "mimetype": "text/x-python",
   "name": "python",
   "nbconvert_exporter": "python",
   "pygments_lexer": "ipython3",
   "version": "3.13.0"
  }
 },
 "nbformat": 4,
 "nbformat_minor": 5
}
